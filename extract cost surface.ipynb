{
 "cells": [
  {
   "cell_type": "code",
   "execution_count": 2,
   "metadata": {},
   "outputs": [],
   "source": [
    "import pandas as pd\n",
    "import numpy as np\n",
    "from csv import reader\n",
    "import time\n",
    "from geopy.point import Point\n",
    "from geopy.distance import distance\n",
    "from bisect import bisect_left, bisect_right\n",
    "from pathlib import Path\n",
    "from src.geotransformation import geoTransformation"
   ]
  },
  {
   "cell_type": "code",
   "execution_count": 3,
   "metadata": {},
   "outputs": [
    {
     "name": "stdout",
     "output_type": "stream",
     "text": [
      "Loading geo grid...\n",
      "Transforming cellSize\n",
      "Transformed cellSize and generated grid translation\n",
      "loaded geogrid. Time Elapsed: 5.150602340698242 seconds\n",
      "\n",
      "Subsetting Cost grid...\n",
      "Subsetting cost grid completed. Time Elapsed: 5.151601791381836 seconds\n",
      "\n",
      "Loading cost...\n",
      "loaded cost. Time Elapsed: 97.08241319656372 seconds\n",
      "\n"
     ]
    }
   ],
   "source": [
    "gt = geoTransformation()\n",
    "gt.processGeoCost()"
   ]
  },
  {
   "cell_type": "code",
   "execution_count": 18,
   "metadata": {},
   "outputs": [],
   "source": [
    "import csv"
   ]
  },
  {
   "cell_type": "code",
   "execution_count": 4,
   "metadata": {},
   "outputs": [],
   "source": [
    "ncols = gt.gridWidth\n",
    "nrows = gt.gridHeight\n",
    "llx = gt.lowerLeftX\n",
    "lly = gt.lowerLeftY\n",
    "cellsize = gt.cellSize"
   ]
  },
  {
   "cell_type": "code",
   "execution_count": 5,
   "metadata": {},
   "outputs": [
    {
     "name": "stdout",
     "output_type": "stream",
     "text": [
      "20696054\n"
     ]
    }
   ],
   "source": [
    "allnodes = ncols*nrows\n",
    "print(allnodes)"
   ]
  },
  {
   "cell_type": "code",
   "execution_count": 8,
   "metadata": {},
   "outputs": [],
   "source": [
    "gridcostNeigborDict = {}\n",
    "gridcostNeigborCost = {}"
   ]
  },
  {
   "cell_type": "code",
   "execution_count": 9,
   "metadata": {},
   "outputs": [],
   "source": [
    "for key in gt.gridcost.keys():\n",
    "    if key[0] not in gridcostNeigborDict:\n",
    "        gridcostNeigborDict[key[0]] = [key[1]]\n",
    "        gridcostNeigborCost[key[0]] = [gt.gridcost[key]]\n",
    "    else:\n",
    "        gridcostNeigborDict[key[0]].append(key[1])\n",
    "        gridcostNeigborCost[key[0]].append(gt.gridcost[key])\n"
   ]
  },
  {
   "cell_type": "code",
   "execution_count": 12,
   "metadata": {},
   "outputs": [
    {
     "data": {
      "text/plain": [
       "792288"
      ]
     },
     "execution_count": 12,
     "metadata": {},
     "output_type": "execute_result"
    }
   ],
   "source": [
    "activenodes = len(gridcostNeigborCost.keys())\n",
    "activenodes"
   ]
  },
  {
   "cell_type": "code",
   "execution_count": 13,
   "metadata": {},
   "outputs": [
    {
     "data": {
      "text/plain": [
       "1"
      ]
     },
     "execution_count": 13,
     "metadata": {},
     "output_type": "execute_result"
    }
   ],
   "source": [
    "cellsize"
   ]
  },
  {
   "cell_type": "code",
   "execution_count": 16,
   "metadata": {},
   "outputs": [],
   "source": [
    "#write output file to csv\n",
    "def writeGraphToCsv(gridcostNeigborDict, gridcostNeigborCost, name):\n",
    "    with open(name+'.csv', 'w', encoding='UTF8', newline='') as f:\n",
    "        writer = csv.writer(f)\n",
    "        writer.writerow([\"AllNodes\", allnodes])\n",
    "        writer.writerow([\"ActiveNodes\", activenodes])\n",
    "        writer.writerow([\"nCols\", ncols])\n",
    "        writer.writerow([\"nRows\", nrows])\n",
    "        writer.writerow([\"xllCorner\", llx])\n",
    "        writer.writerow([\"yllCorner\", lly])\n",
    "        writer.writerow([\"cellSize\", 0.008333333333])\n",
    "        writer.writerow([\"NODATA_value\", -9999])\n",
    "        for key in gridcostNeigborDict.keys():\n",
    "            nodes = [key] + gridcostNeigborDict[key]\n",
    "            costs = gridcostNeigborCost[key]\n",
    "            writer.writerow(nodes)\n",
    "            writer.writerow(costs)"
   ]
  },
  {
   "cell_type": "code",
   "execution_count": 19,
   "metadata": {},
   "outputs": [],
   "source": [
    "writeGraphToCsv(gridcostNeigborDict, gridcostNeigborCost, \"construction-costs-subset\")"
   ]
  },
  {
   "cell_type": "code",
   "execution_count": null,
   "metadata": {},
   "outputs": [],
   "source": []
  },
  {
   "cell_type": "code",
   "execution_count": null,
   "metadata": {},
   "outputs": [],
   "source": []
  }
 ],
 "metadata": {
  "kernelspec": {
   "display_name": "Python 3",
   "language": "python",
   "name": "python3"
  },
  "language_info": {
   "codemirror_mode": {
    "name": "ipython",
    "version": 3
   },
   "file_extension": ".py",
   "mimetype": "text/x-python",
   "name": "python",
   "nbconvert_exporter": "python",
   "pygments_lexer": "ipython3",
   "version": "3.9.12"
  },
  "orig_nbformat": 4
 },
 "nbformat": 4,
 "nbformat_minor": 2
}
